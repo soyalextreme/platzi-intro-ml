{
  "nbformat": 4,
  "nbformat_minor": 0,
  "metadata": {
    "colab": {
      "name": "RLinearPrimerModelo.ipynb",
      "provenance": [],
      "collapsed_sections": []
    },
    "kernelspec": {
      "name": "python3",
      "display_name": "Python 3"
    }
  },
  "cells": [
    {
      "cell_type": "markdown",
      "metadata": {
        "id": "SE7WmUoAMHzZ",
        "colab_type": "text"
      },
      "source": [
        "\n",
        "Importando modulos necesario\n"
      ]
    },
    {
      "cell_type": "code",
      "metadata": {
        "id": "4QacSlFvLlOl",
        "colab_type": "code",
        "colab": {}
      },
      "source": [
        "import torch \n",
        "import numpy as np\n",
        "# modulos de redes neuronales \n",
        "import torch.nn as nn\n",
        "# modulo de optimizaciones\n",
        "import torch.optim as optim\n",
        "\n",
        "import matplotlib.pyplot as plt\n"
      ],
      "execution_count": null,
      "outputs": []
    },
    {
      "cell_type": "markdown",
      "metadata": {
        "id": "OTpoikEaMPVi",
        "colab_type": "text"
      },
      "source": [
        "\n",
        "Regresion Lineal\n"
      ]
    },
    {
      "cell_type": "code",
      "metadata": {
        "id": "Q2GUAoYnMVpw",
        "colab_type": "code",
        "colab": {
          "base_uri": "https://localhost:8080/",
          "height": 282
        },
        "outputId": "37c8b448-2eae-4e4c-cd17-77a52034fba4"
      },
      "source": [
        "car_prices = [5, 6, 7, 8, 9, 10]\n",
        "units_sold = [9, 8.5, 8, 7.5, 7, 6.5]\n",
        "\n",
        "plt.scatter(car_prices, units_sold)\n"
      ],
      "execution_count": null,
      "outputs": [
        {
          "output_type": "execute_result",
          "data": {
            "text/plain": [
              "<matplotlib.collections.PathCollection at 0x7f2bc0190d68>"
            ]
          },
          "metadata": {
            "tags": []
          },
          "execution_count": 24
        },
        {
          "output_type": "display_data",
          "data": {
            "image/png": "[encoded data removed]",
            "text/plain": [
              "<Figure size 432x288 with 1 Axes>"
            ]
          },
          "metadata": {
            "tags": [],
            "needs_background": "light"
          }
        }
      ]
    },
    {
      "cell_type": "code",
      "metadata": {
        "id": "xsbpvLvTNPIX",
        "colab_type": "code",
        "colab": {
          "base_uri": "https://localhost:8080/",
          "height": 204
        },
        "outputId": "798e9f75-83b4-44c3-f4f0-dc37bb3f1ed5"
      },
      "source": [
        "# haciendo reshape con numpy para poder convertirlo a tensor\n",
        "prices_array = np.array(car_prices).reshape(-1, 1)\n",
        "units_array = np.array(units_sold).reshape(-1, 1)\n",
        "prices_array, units_array"
      ],
      "execution_count": null,
      "outputs": [
        {
          "output_type": "execute_result",
          "data": {
            "text/plain": [
              "(array([[ 5],\n",
              "        [ 6],\n",
              "        [ 7],\n",
              "        [ 8],\n",
              "        [ 9],\n",
              "        [10]]), array([[9. ],\n",
              "        [8.5],\n",
              "        [8. ],\n",
              "        [7.5],\n",
              "        [7. ],\n",
              "        [6.5]]))"
            ]
          },
          "metadata": {
            "tags": []
          },
          "execution_count": 36
        }
      ]
    },
    {
      "cell_type": "code",
      "metadata": {
        "id": "KHmcD8-IOLdQ",
        "colab_type": "code",
        "colab": {
          "base_uri": "https://localhost:8080/",
          "height": 136
        },
        "outputId": "9eb30415-ccdb-42b2-d96c-9a16cc0cb28b"
      },
      "source": [
        "# el tensor sufre modificacion con gradientes activados\n",
        "prices = torch.from_numpy(prices_array).float().requires_grad_(True)\n",
        "# no necesita los gradientes por que es mi target(explicacion)\n",
        "units = torch.from_numpy(units_array).float()\n",
        "print(prices)\n",
        "print(prices.shape)"
      ],
      "execution_count": null,
      "outputs": [
        {
          "output_type": "stream",
          "text": [
            "tensor([[ 5.],\n",
            "        [ 6.],\n",
            "        [ 7.],\n",
            "        [ 8.],\n",
            "        [ 9.],\n",
            "        [10.]], requires_grad=True)\n",
            "torch.Size([6, 1])\n"
          ],
          "name": "stdout"
        }
      ]
    },
    {
      "cell_type": "code",
      "metadata": {
        "id": "5dZFDNmNPUrE",
        "colab_type": "code",
        "colab": {
          "base_uri": "https://localhost:8080/",
          "height": 299
        },
        "outputId": "1a232c5f-ecf8-4af3-fc76-58957d048ea0"
      },
      "source": [
        "# recibe la dimension como para la entrada como para la salida\n",
        "model = nn.Linear(1, 1)\n",
        "\n",
        "# implementacion de modelo\n",
        "# Model Media de el cuadrado de los errores\n",
        "loss_function = nn.MSELoss()\n",
        "# optimizador Stocastic gradient decent \n",
        "# parametros son los pesos lr=> learning rate\n",
        "optimizer = optim.SGD(model.parameters(), lr=0.015)\n",
        "\n",
        "# iternado el modelo para aprendizaje\n",
        "losses = []\n",
        "iterations = 2000\n",
        "for i in range(iterations):\n",
        "  # prediccion\n",
        "  pred = model(prices)\n",
        "  # perdida (prediccion, target real)\n",
        "  loss = loss_function(pred, units)\n",
        "  losses.append(loss.data)\n",
        "  # reinicas gradientes\n",
        "  optimizer.zero_grad()\n",
        "  # moviendo nuestra prediccion\n",
        "  loss.backward()\n",
        "  optimizer.step()\n",
        "\n",
        "print(float(loss))\n",
        "plt.plot(range(iterations), losses)"
      ],
      "execution_count": null,
      "outputs": [
        {
          "output_type": "stream",
          "text": [
            "0.019778423011302948\n"
          ],
          "name": "stdout"
        },
        {
          "output_type": "execute_result",
          "data": {
            "text/plain": [
              "[<matplotlib.lines.Line2D at 0x7f2bc00f49e8>]"
            ]
          },
          "metadata": {
            "tags": []
          },
          "execution_count": 27
        },
        {
          "output_type": "display_data",
          "data": {
            "image/png": "[encoded data removed]",
            "text/plain": [
              "<Figure size 432x288 with 1 Axes>"
            ]
          },
          "metadata": {
            "tags": [],
            "needs_background": "light"
          }
        }
      ]
    },
    {
      "cell_type": "code",
      "metadata": {
        "id": "KOXiLmNjS1lW",
        "colab_type": "code",
        "colab": {
          "base_uri": "https://localhost:8080/",
          "height": 34
        },
        "outputId": "881812e1-6340-4f3e-b101-c9d170e4cd26"
      },
      "source": [
        "# creando el tensor para implementar modelo con precios\n",
        "x = torch.Tensor([[20.0]])\n",
        "\n",
        "p = model(x)\n",
        "p"
      ],
      "execution_count": null,
      "outputs": [
        {
          "output_type": "execute_result",
          "data": {
            "text/plain": [
              "tensor([[2.4723]], grad_fn=<AddmmBackward>)"
            ]
          },
          "metadata": {
            "tags": []
          },
          "execution_count": 34
        }
      ]
    }
  ]
}